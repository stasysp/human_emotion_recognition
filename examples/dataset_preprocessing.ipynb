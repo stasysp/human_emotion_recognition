{
 "cells": [
  {
   "cell_type": "code",
   "execution_count": 23,
   "metadata": {},
   "outputs": [],
   "source": [
    "import collections\n",
    "import numpy as np\n",
    "import pandas as pd\n",
    "import os, sys\n",
    "import re\n",
    "\n",
    "from argparse import Namespace"
   ]
  },
  {
   "cell_type": "code",
   "execution_count": 80,
   "metadata": {},
   "outputs": [],
   "source": [
    "args = Namespace(\n",
    "    raw_train_dataset_csv=\"data/yelp/raw_train.csv\",\n",
    "    raw_test_dataset_csv=\"data/yelp/raw_test.csv\",\n",
    "    custom_dataset_csv=\"data/scalling_result400000-500000.csv\",\n",
    "    path_to_custom_dataset=\"..\\\\..\\\\..\\\\..\\\\RussianNLP\\\\public_youtube1120_mp3\\\\\",\n",
    "    preprocessed_dataset=\"./data/like_yelp_custom_ds.csv\",\n",
    "    proportion_subset_of_train=0.1,\n",
    "    train_proportion=0.7,\n",
    "    val_proportion=0.15,\n",
    "    test_proportion=0.15,\n",
    "    output_munged_csv=\"data/yelp/reviews_with_splits_lite.csv\",\n",
    "    seed=1337\n",
    ")"
   ]
  },
  {
   "cell_type": "code",
   "execution_count": 82,
   "metadata": {
    "scrolled": true
   },
   "outputs": [
    {
     "data": {
      "text/html": [
       "<div>\n",
       "<style scoped>\n",
       "    .dataframe tbody tr th:only-of-type {\n",
       "        vertical-align: middle;\n",
       "    }\n",
       "\n",
       "    .dataframe tbody tr th {\n",
       "        vertical-align: top;\n",
       "    }\n",
       "\n",
       "    .dataframe thead th {\n",
       "        text-align: right;\n",
       "    }\n",
       "</style>\n",
       "<table border=\"1\" class=\"dataframe\">\n",
       "  <thead>\n",
       "    <tr style=\"text-align: right;\">\n",
       "      <th></th>\n",
       "      <th>0</th>\n",
       "      <th>1</th>\n",
       "      <th>2</th>\n",
       "      <th>3</th>\n",
       "      <th>4</th>\n",
       "      <th>5</th>\n",
       "      <th>path</th>\n",
       "      <th>emotions</th>\n",
       "    </tr>\n",
       "  </thead>\n",
       "  <tbody>\n",
       "    <tr>\n",
       "      <th>0</th>\n",
       "      <td>0.171195</td>\n",
       "      <td>0.529780</td>\n",
       "      <td>0.162259</td>\n",
       "      <td>0.095235</td>\n",
       "      <td>0.040569</td>\n",
       "      <td>0.000963</td>\n",
       "      <td>.\\public_youtube1120\\4\\88\\5ac360108ae3.txt</td>\n",
       "      <td>neutral</td>\n",
       "    </tr>\n",
       "    <tr>\n",
       "      <th>1</th>\n",
       "      <td>0.047468</td>\n",
       "      <td>0.818532</td>\n",
       "      <td>0.048682</td>\n",
       "      <td>0.077543</td>\n",
       "      <td>0.007252</td>\n",
       "      <td>0.000523</td>\n",
       "      <td>.\\public_youtube1120\\4\\88\\5ac5f00a00e8.txt</td>\n",
       "      <td>neutral</td>\n",
       "    </tr>\n",
       "    <tr>\n",
       "      <th>2</th>\n",
       "      <td>0.135218</td>\n",
       "      <td>0.484933</td>\n",
       "      <td>0.246828</td>\n",
       "      <td>0.122521</td>\n",
       "      <td>0.009197</td>\n",
       "      <td>0.001304</td>\n",
       "      <td>.\\public_youtube1120\\4\\88\\5aeff595b96e.txt</td>\n",
       "      <td>negative</td>\n",
       "    </tr>\n",
       "    <tr>\n",
       "      <th>3</th>\n",
       "      <td>0.101549</td>\n",
       "      <td>0.574761</td>\n",
       "      <td>0.089627</td>\n",
       "      <td>0.136040</td>\n",
       "      <td>0.023855</td>\n",
       "      <td>0.074168</td>\n",
       "      <td>.\\public_youtube1120\\4\\88\\5bdbd9882ce0.txt</td>\n",
       "      <td>neutral</td>\n",
       "    </tr>\n",
       "    <tr>\n",
       "      <th>4</th>\n",
       "      <td>0.183379</td>\n",
       "      <td>0.430083</td>\n",
       "      <td>0.182002</td>\n",
       "      <td>0.200766</td>\n",
       "      <td>0.003571</td>\n",
       "      <td>0.000199</td>\n",
       "      <td>.\\public_youtube1120\\4\\88\\5bef40e49a15.txt</td>\n",
       "      <td>skip</td>\n",
       "    </tr>\n",
       "  </tbody>\n",
       "</table>\n",
       "</div>"
      ],
      "text/plain": [
       "          0         1         2         3         4         5  \\\n",
       "0  0.171195  0.529780  0.162259  0.095235  0.040569  0.000963   \n",
       "1  0.047468  0.818532  0.048682  0.077543  0.007252  0.000523   \n",
       "2  0.135218  0.484933  0.246828  0.122521  0.009197  0.001304   \n",
       "3  0.101549  0.574761  0.089627  0.136040  0.023855  0.074168   \n",
       "4  0.183379  0.430083  0.182002  0.200766  0.003571  0.000199   \n",
       "\n",
       "                                         path  emotions  \n",
       "0  .\\public_youtube1120\\4\\88\\5ac360108ae3.txt   neutral  \n",
       "1  .\\public_youtube1120\\4\\88\\5ac5f00a00e8.txt   neutral  \n",
       "2  .\\public_youtube1120\\4\\88\\5aeff595b96e.txt  negative  \n",
       "3  .\\public_youtube1120\\4\\88\\5bdbd9882ce0.txt   neutral  \n",
       "4  .\\public_youtube1120\\4\\88\\5bef40e49a15.txt      skip  "
      ]
     },
     "execution_count": 82,
     "metadata": {},
     "output_type": "execute_result"
    }
   ],
   "source": [
    "def load_custom_dataset(data_path):\n",
    "    df = pd.read_csv(data_path, index_col=0)\n",
    "    df = df.loc[:, ~df.columns.str.contains('^Unnamed')]\n",
    "    return df\n",
    "\n",
    "cp_train_reviews = load_custom_dataset(args.custom_dataset_csv)\n",
    "cp_train_reviews.head()"
   ]
  },
  {
   "cell_type": "code",
   "execution_count": 115,
   "metadata": {},
   "outputs": [],
   "source": [
    "import copy\n",
    "\n",
    "# Delete left columns\n",
    "col_for_delete = [str(i) for i in range(6)]\n",
    "cp_train_reviews = cp_train_reviews.drop(columns=col_for_delete)"
   ]
  },
  {
   "cell_type": "code",
   "execution_count": 121,
   "metadata": {},
   "outputs": [],
   "source": [
    "def preprocess_text(text):\n",
    "    text = text.lower()\n",
    "    text = re.sub(r\"([.,!?])\", r\" \\1 \", text)\n",
    "    text = re.sub(r\"[^а-яёЁА-Яa-zA-Z.,!?]+\", r\" \", text)\n",
    "    return text\n",
    "\n",
    "def text_by_path(path):\n",
    "    path = path[1:]\n",
    "    path = \"\\\\\\\\\".join(path.split(\"\\\\\"))\n",
    "    try:\n",
    "        with open(args.path_to_custom_dataset + path, 'r', encoding=\"utf-8\") as file:\n",
    "            text = file.read()\n",
    "    except FileNotFoundError:\n",
    "        return -1\n",
    "    else:\n",
    "        return preprocess_text(text)\n",
    "        \n",
    "cp_train_reviews.path = cp_train_reviews.path.apply(lambda x: text_by_path(x))"
   ]
  },
  {
   "cell_type": "code",
   "execution_count": 129,
   "metadata": {},
   "outputs": [],
   "source": [
    "cp_train_reviews['split'] = \"\"\n",
    "item_list = []\n",
    "np.random.seed(args.seed)\n",
    "\n",
    "np.random.shuffle(cp_train_reviews.values)\n",
    "    \n",
    "n_total = len(cp_train_reviews)\n",
    "n_train = int(args.train_proportion * n_total)\n",
    "n_val = int(args.val_proportion * n_total)\n",
    "n_test = int(args.test_proportion * n_total)\n",
    "    \n",
    "# Give data point a split attribute\n",
    "for _ in range(n_train):\n",
    "    item_list.append('train')\n",
    "\n",
    "for _ in range(n_train, n_train+n_val):\n",
    "    item_list.append('val')\n",
    "\n",
    "for _ in range(n_train+n_val, n_train+n_val+n_test):\n",
    "    item_list.append('test')"
   ]
  },
  {
   "cell_type": "code",
   "execution_count": 132,
   "metadata": {},
   "outputs": [],
   "source": [
    "cp_train_reviews['split'] = item_list"
   ]
  },
  {
   "cell_type": "code",
   "execution_count": 135,
   "metadata": {},
   "outputs": [
    {
     "data": {
      "text/html": [
       "<div>\n",
       "<style scoped>\n",
       "    .dataframe tbody tr th:only-of-type {\n",
       "        vertical-align: middle;\n",
       "    }\n",
       "\n",
       "    .dataframe tbody tr th {\n",
       "        vertical-align: top;\n",
       "    }\n",
       "\n",
       "    .dataframe thead th {\n",
       "        text-align: right;\n",
       "    }\n",
       "</style>\n",
       "<table border=\"1\" class=\"dataframe\">\n",
       "  <thead>\n",
       "    <tr style=\"text-align: right;\">\n",
       "      <th></th>\n",
       "      <th>path</th>\n",
       "      <th>emotions</th>\n",
       "      <th>split</th>\n",
       "    </tr>\n",
       "  </thead>\n",
       "  <tbody>\n",
       "    <tr>\n",
       "      <th>0</th>\n",
       "      <td>здрасте варвара степановна</td>\n",
       "      <td>skip</td>\n",
       "      <td>train</td>\n",
       "    </tr>\n",
       "    <tr>\n",
       "      <th>1</th>\n",
       "      <td>надо было еще и голову отбить напрочь</td>\n",
       "      <td>positive</td>\n",
       "      <td>train</td>\n",
       "    </tr>\n",
       "    <tr>\n",
       "      <th>2</th>\n",
       "      <td>слушай а может нам развестись</td>\n",
       "      <td>neutral</td>\n",
       "      <td>train</td>\n",
       "    </tr>\n",
       "    <tr>\n",
       "      <th>3</th>\n",
       "      <td>это ресепшен передал</td>\n",
       "      <td>neutral</td>\n",
       "      <td>train</td>\n",
       "    </tr>\n",
       "    <tr>\n",
       "      <th>4</th>\n",
       "      <td>теперь не найти</td>\n",
       "      <td>neutral</td>\n",
       "      <td>train</td>\n",
       "    </tr>\n",
       "  </tbody>\n",
       "</table>\n",
       "</div>"
      ],
      "text/plain": [
       "                                     path  emotions  split\n",
       "0             здрасте варвара степановна       skip  train\n",
       "1  надо было еще и голову отбить напрочь   positive  train\n",
       "2          слушай а может нам развестись    neutral  train\n",
       "3                   это ресепшен передал    neutral  train\n",
       "4                        теперь не найти    neutral  train"
      ]
     },
     "execution_count": 135,
     "metadata": {},
     "output_type": "execute_result"
    }
   ],
   "source": [
    "cp_train_reviews.head()"
   ]
  },
  {
   "cell_type": "code",
   "execution_count": 134,
   "metadata": {},
   "outputs": [
    {
     "data": {
      "text/plain": [
       "train    70000\n",
       "test     15000\n",
       "val      15000\n",
       "Name: split, dtype: int64"
      ]
     },
     "execution_count": 134,
     "metadata": {},
     "output_type": "execute_result"
    }
   ],
   "source": [
    "cp_train_reviews.split.value_counts()"
   ]
  },
  {
   "cell_type": "code",
   "execution_count": null,
   "metadata": {},
   "outputs": [],
   "source": [
    "cp_train_reviews.to_csv(args.preprocessed_dataset)"
   ]
  },
  {
   "cell_type": "code",
   "execution_count": 16,
   "metadata": {},
   "outputs": [],
   "source": [
    "final_reviews.to_csv(args.output_munged_csv, index=False)"
   ]
  }
 ],
 "metadata": {
  "kernelspec": {
   "display_name": "Python 3",
   "language": "python",
   "name": "python3"
  },
  "language_info": {
   "codemirror_mode": {
    "name": "ipython",
    "version": 3
   },
   "file_extension": ".py",
   "mimetype": "text/x-python",
   "name": "python",
   "nbconvert_exporter": "python",
   "pygments_lexer": "ipython3",
   "version": "3.6.10"
  },
  "toc": {
   "colors": {
    "hover_highlight": "#DAA520",
    "running_highlight": "#FF0000",
    "selected_highlight": "#FFD700"
   },
   "moveMenuLeft": true,
   "nav_menu": {
    "height": "12px",
    "width": "252px"
   },
   "navigate_menu": true,
   "number_sections": true,
   "sideBar": true,
   "threshold": "5",
   "toc_cell": false,
   "toc_section_display": "block",
   "toc_window_display": false
  }
 },
 "nbformat": 4,
 "nbformat_minor": 2
}
