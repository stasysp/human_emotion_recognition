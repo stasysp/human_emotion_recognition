{
  "nbformat": 4,
  "nbformat_minor": 0,
  "metadata": {
    "colab": {
      "name": "pipeline_savee.ipynb",
      "provenance": [],
      "collapsed_sections": []
    },
    "kernelspec": {
      "name": "python3",
      "display_name": "Python 3"
    },
    "accelerator": "GPU",
    "widgets": {
      "application/vnd.jupyter.widget-state+json": {
        "eaf8ecacaa264fc380dda461d51a29df": {
          "model_module": "@jupyter-widgets/controls",
          "model_name": "HBoxModel",
          "state": {
            "_view_name": "HBoxView",
            "_dom_classes": [],
            "_model_name": "HBoxModel",
            "_view_module": "@jupyter-widgets/controls",
            "_model_module_version": "1.5.0",
            "_view_count": null,
            "_view_module_version": "1.5.0",
            "box_style": "",
            "layout": "IPY_MODEL_fffff34d42cd43eb8c659978cddac851",
            "_model_module": "@jupyter-widgets/controls",
            "children": [
              "IPY_MODEL_281b46e642ad4a5b9b272e6b22e2d482",
              "IPY_MODEL_a71d37be9476473cabcc86792c291a3a"
            ]
          }
        },
        "fffff34d42cd43eb8c659978cddac851": {
          "model_module": "@jupyter-widgets/base",
          "model_name": "LayoutModel",
          "state": {
            "_view_name": "LayoutView",
            "grid_template_rows": null,
            "right": null,
            "justify_content": null,
            "_view_module": "@jupyter-widgets/base",
            "overflow": null,
            "_model_module_version": "1.2.0",
            "_view_count": null,
            "flex_flow": null,
            "width": null,
            "min_width": null,
            "border": null,
            "align_items": null,
            "bottom": null,
            "_model_module": "@jupyter-widgets/base",
            "top": null,
            "grid_column": null,
            "overflow_y": null,
            "overflow_x": null,
            "grid_auto_flow": null,
            "grid_area": null,
            "grid_template_columns": null,
            "flex": null,
            "_model_name": "LayoutModel",
            "justify_items": null,
            "grid_row": null,
            "max_height": null,
            "align_content": null,
            "visibility": null,
            "align_self": null,
            "height": null,
            "min_height": null,
            "padding": null,
            "grid_auto_rows": null,
            "grid_gap": null,
            "max_width": null,
            "order": null,
            "_view_module_version": "1.2.0",
            "grid_template_areas": null,
            "object_position": null,
            "object_fit": null,
            "grid_auto_columns": null,
            "margin": null,
            "display": null,
            "left": null
          }
        },
        "281b46e642ad4a5b9b272e6b22e2d482": {
          "model_module": "@jupyter-widgets/controls",
          "model_name": "FloatProgressModel",
          "state": {
            "_view_name": "ProgressView",
            "style": "IPY_MODEL_0756c72e80174516827f1e984158b712",
            "_dom_classes": [],
            "description": "100%",
            "_model_name": "FloatProgressModel",
            "bar_style": "success",
            "max": 30,
            "_view_module": "@jupyter-widgets/controls",
            "_model_module_version": "1.5.0",
            "value": 30,
            "_view_count": null,
            "_view_module_version": "1.5.0",
            "orientation": "horizontal",
            "min": 0,
            "description_tooltip": null,
            "_model_module": "@jupyter-widgets/controls",
            "layout": "IPY_MODEL_973cdb4101994b39ad4af557ad0b59c1"
          }
        },
        "a71d37be9476473cabcc86792c291a3a": {
          "model_module": "@jupyter-widgets/controls",
          "model_name": "HTMLModel",
          "state": {
            "_view_name": "HTMLView",
            "style": "IPY_MODEL_4c424168a0844f19818d74b14e46d3b8",
            "_dom_classes": [],
            "description": "",
            "_model_name": "HTMLModel",
            "placeholder": "​",
            "_view_module": "@jupyter-widgets/controls",
            "_model_module_version": "1.5.0",
            "value": " 30/30 [01:15&lt;00:00,  2.53s/it]",
            "_view_count": null,
            "_view_module_version": "1.5.0",
            "description_tooltip": null,
            "_model_module": "@jupyter-widgets/controls",
            "layout": "IPY_MODEL_e607bfa7d8d64f9083caf2c563b7c38d"
          }
        },
        "0756c72e80174516827f1e984158b712": {
          "model_module": "@jupyter-widgets/controls",
          "model_name": "ProgressStyleModel",
          "state": {
            "_view_name": "StyleView",
            "_model_name": "ProgressStyleModel",
            "description_width": "initial",
            "_view_module": "@jupyter-widgets/base",
            "_model_module_version": "1.5.0",
            "_view_count": null,
            "_view_module_version": "1.2.0",
            "bar_color": null,
            "_model_module": "@jupyter-widgets/controls"
          }
        },
        "973cdb4101994b39ad4af557ad0b59c1": {
          "model_module": "@jupyter-widgets/base",
          "model_name": "LayoutModel",
          "state": {
            "_view_name": "LayoutView",
            "grid_template_rows": null,
            "right": null,
            "justify_content": null,
            "_view_module": "@jupyter-widgets/base",
            "overflow": null,
            "_model_module_version": "1.2.0",
            "_view_count": null,
            "flex_flow": null,
            "width": null,
            "min_width": null,
            "border": null,
            "align_items": null,
            "bottom": null,
            "_model_module": "@jupyter-widgets/base",
            "top": null,
            "grid_column": null,
            "overflow_y": null,
            "overflow_x": null,
            "grid_auto_flow": null,
            "grid_area": null,
            "grid_template_columns": null,
            "flex": null,
            "_model_name": "LayoutModel",
            "justify_items": null,
            "grid_row": null,
            "max_height": null,
            "align_content": null,
            "visibility": null,
            "align_self": null,
            "height": null,
            "min_height": null,
            "padding": null,
            "grid_auto_rows": null,
            "grid_gap": null,
            "max_width": null,
            "order": null,
            "_view_module_version": "1.2.0",
            "grid_template_areas": null,
            "object_position": null,
            "object_fit": null,
            "grid_auto_columns": null,
            "margin": null,
            "display": null,
            "left": null
          }
        },
        "4c424168a0844f19818d74b14e46d3b8": {
          "model_module": "@jupyter-widgets/controls",
          "model_name": "DescriptionStyleModel",
          "state": {
            "_view_name": "StyleView",
            "_model_name": "DescriptionStyleModel",
            "description_width": "",
            "_view_module": "@jupyter-widgets/base",
            "_model_module_version": "1.5.0",
            "_view_count": null,
            "_view_module_version": "1.2.0",
            "_model_module": "@jupyter-widgets/controls"
          }
        },
        "e607bfa7d8d64f9083caf2c563b7c38d": {
          "model_module": "@jupyter-widgets/base",
          "model_name": "LayoutModel",
          "state": {
            "_view_name": "LayoutView",
            "grid_template_rows": null,
            "right": null,
            "justify_content": null,
            "_view_module": "@jupyter-widgets/base",
            "overflow": null,
            "_model_module_version": "1.2.0",
            "_view_count": null,
            "flex_flow": null,
            "width": null,
            "min_width": null,
            "border": null,
            "align_items": null,
            "bottom": null,
            "_model_module": "@jupyter-widgets/base",
            "top": null,
            "grid_column": null,
            "overflow_y": null,
            "overflow_x": null,
            "grid_auto_flow": null,
            "grid_area": null,
            "grid_template_columns": null,
            "flex": null,
            "_model_name": "LayoutModel",
            "justify_items": null,
            "grid_row": null,
            "max_height": null,
            "align_content": null,
            "visibility": null,
            "align_self": null,
            "height": null,
            "min_height": null,
            "padding": null,
            "grid_auto_rows": null,
            "grid_gap": null,
            "max_width": null,
            "order": null,
            "_view_module_version": "1.2.0",
            "grid_template_areas": null,
            "object_position": null,
            "object_fit": null,
            "grid_auto_columns": null,
            "margin": null,
            "display": null,
            "left": null
          }
        }
      }
    }
  },
  "cells": [
    {
      "cell_type": "code",
      "metadata": {
        "id": "hQmkwkRYwr4n",
        "colab_type": "code",
        "colab": {
          "base_uri": "https://localhost:8080/",
          "height": 121
        },
        "outputId": "b734ca03-c6e4-4989-ef56-a015470141b4"
      },
      "source": [
        "from google.colab import drive\n",
        "drive.mount('/content/gdrive')"
      ],
      "execution_count": 1,
      "outputs": [
        {
          "output_type": "stream",
          "text": [
            "Go to this URL in a browser: https://accounts.google.com/o/oauth2/auth?client_id=947318989803-6bn6qk8qdgf4n4g3pfee6491hc0brc4i.apps.googleusercontent.com&redirect_uri=urn%3aietf%3awg%3aoauth%3a2.0%3aoob&response_type=code&scope=email%20https%3a%2f%2fwww.googleapis.com%2fauth%2fdocs.test%20https%3a%2f%2fwww.googleapis.com%2fauth%2fdrive%20https%3a%2f%2fwww.googleapis.com%2fauth%2fdrive.photos.readonly%20https%3a%2f%2fwww.googleapis.com%2fauth%2fpeopleapi.readonly\n",
            "\n",
            "Enter your authorization code:\n",
            "··········\n",
            "Mounted at /content/gdrive\n"
          ],
          "name": "stdout"
        }
      ]
    },
    {
      "cell_type": "code",
      "metadata": {
        "id": "KooDZLtyw3eZ",
        "colab_type": "code",
        "colab": {}
      },
      "source": [
        "import sys\n",
        "!pip install torchaudio comet-ml==3.0.2 torchvision==0.6.0"
      ],
      "execution_count": null,
      "outputs": []
    },
    {
      "cell_type": "code",
      "metadata": {
        "id": "JGagcnq9yPyQ",
        "colab_type": "code",
        "colab": {
          "base_uri": "https://localhost:8080/",
          "height": 34
        },
        "outputId": "451222f3-5ebd-4cf0-de7b-3a3885fc8ca7"
      },
      "source": [
        "import torch\n",
        "device = torch.device(\"cuda\" if torch.cuda.is_available() else \"cpu\")\n",
        "device"
      ],
      "execution_count": 3,
      "outputs": [
        {
          "output_type": "execute_result",
          "data": {
            "text/plain": [
              "device(type='cuda')"
            ]
          },
          "metadata": {
            "tags": []
          },
          "execution_count": 3
        }
      ]
    },
    {
      "cell_type": "code",
      "metadata": {
        "id": "diI0EknxyTe1",
        "colab_type": "code",
        "colab": {}
      },
      "source": [
        "import torch\n",
        "import torch.nn as nn\n",
        "import torch.nn.functional as F\n",
        "import torch.optim as optim\n",
        "import torch.backends.cudnn as cudnn\n",
        "from torch.optim import lr_scheduler\n",
        "from torchvision import datasets, transforms, models\n",
        "from torch.utils.data import Dataset\n",
        "import torchaudio\n",
        "import librosa\n",
        "import pandas as pd\n",
        "import numpy as np\n",
        "import time\n",
        "import os\n",
        "from tqdm.notebook import tqdm\n",
        "import copy"
      ],
      "execution_count": 4,
      "outputs": []
    },
    {
      "cell_type": "code",
      "metadata": {
        "id": "8vbMK9dEyeBq",
        "colab_type": "code",
        "colab": {}
      },
      "source": [
        "path_to_data = \"/content/gdrive/My Drive/Research/savee_png\""
      ],
      "execution_count": 5,
      "outputs": []
    },
    {
      "cell_type": "code",
      "metadata": {
        "id": "0jn78MUgyfo-",
        "colab_type": "code",
        "colab": {}
      },
      "source": [
        "data_transform_augmentations = transforms.Compose([\n",
        "            transforms.Resize((224, 224)), # Вообще в официальном туториале говорится, что надо минимум 224 размер, но я оставил как у нас было и вроде работает\n",
        "            transforms.RandomApply([\n",
        "                transforms.RandomResizedCrop((224,224)),\n",
        "            ],0.6),     \n",
        "            transforms.ToTensor(),\n",
        "            transforms.Normalize([0.485, 0.456, 0.406], [0.229, 0.224, 0.225]),])\n",
        "\n",
        "data_transform = transforms.Compose([\n",
        "            transforms.Resize((224, 224)), # Вообще в официальном туториале говорится, что надо минимум 224 размер, но я оставил как у нас было и вроде работает\n",
        "            #transforms.RandomHorizontalFlip(),\n",
        "            transforms.ToTensor(),\n",
        "            transforms.Normalize([0.485, 0.456, 0.406], [0.229, 0.224, 0.225]),])\n",
        "\n",
        "tranforms = {'augmentation' : data_transform_augmentations, 'original' : data_transform}"
      ],
      "execution_count": 24,
      "outputs": []
    },
    {
      "cell_type": "code",
      "metadata": {
        "id": "1HsmnNGvJ8NV",
        "colab_type": "code",
        "colab": {}
      },
      "source": [
        "dataset = datasets.ImageFolder(root=path_to_data,\n",
        "                              transform=tranforms['augmentation'])"
      ],
      "execution_count": 42,
      "outputs": []
    },
    {
      "cell_type": "code",
      "metadata": {
        "id": "5rUqmK2qoGuw",
        "colab_type": "code",
        "colab": {
          "base_uri": "https://localhost:8080/",
          "height": 134
        },
        "outputId": "03ed6fbe-bdec-4fc0-a6fd-1eee8cf2005a"
      },
      "source": [
        "dataset.class_to_idx"
      ],
      "execution_count": 8,
      "outputs": [
        {
          "output_type": "execute_result",
          "data": {
            "text/plain": [
              "{'anger': 0,\n",
              " 'disgust': 1,\n",
              " 'fear': 2,\n",
              " 'happiness': 3,\n",
              " 'neutral': 4,\n",
              " 'sadness': 5,\n",
              " 'surprise': 6}"
            ]
          },
          "metadata": {
            "tags": []
          },
          "execution_count": 8
        }
      ]
    },
    {
      "cell_type": "code",
      "metadata": {
        "id": "5UXoRYj3LN5C",
        "colab_type": "code",
        "colab": {}
      },
      "source": [
        "n = len(dataset.samples)\n",
        "dataset_sizes = {'train' : int(n*0.75), 'val' : int(n*0.25)}\n",
        "train_set, val_set = torch.utils.data.random_split(dataset, [dataset_sizes['train'], dataset_sizes['val']])\n",
        "loader_train = torch.utils.data.DataLoader(train_set,\n",
        "                                              batch_size=16, shuffle=True,\n",
        "                                              num_workers=4)\n",
        "loader_val = torch.utils.data.DataLoader(val_set,\n",
        "                                              batch_size=16, shuffle=True,\n",
        "                                              num_workers=4)\n",
        "dataloaders = {'train' : loader_train, 'val' : loader_val}"
      ],
      "execution_count": 38,
      "outputs": []
    },
    {
      "cell_type": "code",
      "metadata": {
        "id": "upsOSXscW9jj",
        "colab_type": "code",
        "colab": {}
      },
      "source": [
        "def train_model(model, criterion, optimizer, scheduler, path_model, num_epochs=10):\n",
        "    since = time.time()\n",
        "\n",
        "    best_model_wts = copy.deepcopy(model.state_dict())\n",
        "    best_acc = 0.0\n",
        "\n",
        "    for epoch in tqdm(range(num_epochs)):\n",
        "        print('Epoch {}/{}'.format(epoch, num_epochs - 1))\n",
        "        print('-' * 10)\n",
        "\n",
        "        # Each epoch has a training and validation phase\n",
        "        for phase in ['train', 'val']:\n",
        "            if phase == 'train':\n",
        "                model.train()  # Set model to training mode\n",
        "            else:\n",
        "                model.eval()   # Set model to evaluate mode\n",
        "\n",
        "            current_loss = 0.0\n",
        "            current_corrects = 0\n",
        "\n",
        "            # Here's where the training happens\n",
        "            print('Iterating through data...')\n",
        "\n",
        "            for inputs, labels in dataloaders[phase]:\n",
        "                inputs = inputs.to(device)\n",
        "                labels = labels.to(device)\n",
        "\n",
        "                # We need to zero the gradients, don't forget it\n",
        "                optimizer.zero_grad()\n",
        "\n",
        "                # Time to carry out the forward training poss\n",
        "                # We only need to log the loss stats if we are in training phase\n",
        "                with torch.set_grad_enabled(phase == 'train'):\n",
        "                    outputs = model(inputs).to(device)\n",
        "                    _, preds = torch.max(outputs, 1)\n",
        "                    loss = criterion(outputs, labels)\n",
        "\n",
        "                    # backward + optimize only if in training phase\n",
        "                    if phase == 'train':\n",
        "                        loss.backward()\n",
        "                        optimizer.step()\n",
        "                        scheduler.step()\n",
        "                # We want variables to hold the loss statistics\n",
        "                current_loss += loss.item() * inputs.size(0)\n",
        "                current_corrects += torch.sum(preds == labels.data)\n",
        "\n",
        "            epoch_loss = current_loss / dataset_sizes[phase]\n",
        "            epoch_acc = current_corrects.double() / dataset_sizes[phase]\n",
        "\n",
        "            train_state[phase + '_acc'].append(epoch_acc)\n",
        "            train_state[phase + '_loss'].append(epoch_loss)\n",
        "\n",
        "            print('{} Loss: {:.4f} Acc: {:.4f}'.format(\n",
        "                phase, epoch_loss, epoch_acc))\n",
        "            # Make a copy of the model if the accuracy on the validation set has improved\n",
        "            if phase == 'val' and epoch_acc > best_acc:\n",
        "                best_acc = epoch_acc\n",
        "                best_model_wts = copy.deepcopy(model.state_dict())\n",
        "                best_model_path = path_model + 'best_model_' + str(round(best_acc.item(), 3)) + '.pth' \n",
        "\n",
        "                torch.save(best_model_wts, best_model_path)\n",
        "        print()\n",
        "\n",
        "    time_since = time.time() - since\n",
        "    print('Training complete in {:.0f}m {:.0f}s'.format(\n",
        "        time_since // 60, time_since % 60))\n",
        "    print('Best val Acc: {:4f}'.format(best_acc))\n",
        "\n",
        "    # Now we'll load in the best model weights and return it\n",
        "    model.load_state_dict(best_model_wts)\n",
        "    return model, best_acc"
      ],
      "execution_count": 39,
      "outputs": []
    },
    {
      "cell_type": "code",
      "metadata": {
        "id": "tfOWkWboXk3r",
        "colab_type": "code",
        "colab": {}
      },
      "source": [
        "model = models.resnet18(pretrained=True)\n",
        "num_classes = len(dataset.class_to_idx)\n",
        "# replace the last layer (resnet)\n",
        "num_features = model.fc.in_features\n",
        "model.fc = nn.Linear(num_features, num_classes)\n",
        "\n",
        "# model.classifier = nn.Linear(1024, num_classes) #densenet121\n",
        "# model.classifier[6] = nn.Linear(4096,num_classes) #alexnet\n",
        "# model.classifier[1] = nn.Conv2d(512, num_classes, kernel_size=(1,1), stride=(1,1)) #squeezenet1_0\n",
        "\n",
        "criterion = nn.CrossEntropyLoss()\n",
        "# Observe that all parameters are being optimized\n",
        "optimizer_ft = optim.Adam(model.parameters(), lr=0.001)\n",
        "# Decay LR by a factor of 0.1 every 7 epochs\n",
        "exp_lr_scheduler = lr_scheduler.StepLR(optimizer_ft, step_size=7, gamma=0.1)"
      ],
      "execution_count": 44,
      "outputs": []
    },
    {
      "cell_type": "code",
      "metadata": {
        "id": "voNuePBPXhvm",
        "colab_type": "code",
        "colab": {
          "base_uri": "https://localhost:8080/",
          "height": 1000,
          "referenced_widgets": [
            "eaf8ecacaa264fc380dda461d51a29df",
            "fffff34d42cd43eb8c659978cddac851",
            "281b46e642ad4a5b9b272e6b22e2d482",
            "a71d37be9476473cabcc86792c291a3a",
            "0756c72e80174516827f1e984158b712",
            "973cdb4101994b39ad4af557ad0b59c1",
            "4c424168a0844f19818d74b14e46d3b8",
            "e607bfa7d8d64f9083caf2c563b7c38d"
          ]
        },
        "outputId": "8827ad55-6d0a-4b13-e2c8-1359b3aed7a4"
      },
      "source": [
        "train_state = {'train_loss' : [], 'train_acc' : [], 'val_loss' : [], 'val_acc' : []}\n",
        "if torch.cuda.is_available():\n",
        "    model.cuda()\n",
        "model_name = 'best_model_0.633.pth'\n",
        "best_mod_path = '/content/gdrive/My Drive/Research/SAVEE_experiments/weights/'\n",
        "#model.load_state_dict(torch.load(best_mod_path + model_name, map_location=device))\n",
        "model_ret, best_acc = train_model(model, criterion, optimizer_ft, exp_lr_scheduler, best_mod_path, num_epochs=30)\n",
        "# save model\n",
        "best_model_path = best_mod_path + 'res_net_model_full_' + str(round(best_acc.item(), 3)) + '.pth'\n",
        "if best_acc.item() > 0.6:\n",
        "    torch.save(model_ret.state_dict(), best_model_path)"
      ],
      "execution_count": 45,
      "outputs": [
        {
          "output_type": "display_data",
          "data": {
            "application/vnd.jupyter.widget-view+json": {
              "model_id": "eaf8ecacaa264fc380dda461d51a29df",
              "version_minor": 0,
              "version_major": 2
            },
            "text/plain": [
              "HBox(children=(FloatProgress(value=0.0, max=30.0), HTML(value='')))"
            ]
          },
          "metadata": {
            "tags": []
          }
        },
        {
          "output_type": "stream",
          "text": [
            "Epoch 0/29\n",
            "----------\n",
            "Iterating through data...\n",
            "train Loss: 1.6130 Acc: 0.4111\n",
            "Iterating through data...\n",
            "val Loss: 3.0617 Acc: 0.4333\n",
            "\n",
            "Epoch 1/29\n",
            "----------\n",
            "Iterating through data...\n",
            "train Loss: 0.6087 Acc: 0.7778\n",
            "Iterating through data...\n",
            "val Loss: 1.3046 Acc: 0.5667\n",
            "\n",
            "Epoch 2/29\n",
            "----------\n",
            "Iterating through data...\n",
            "train Loss: 0.2836 Acc: 0.9222\n",
            "Iterating through data...\n",
            "val Loss: 1.1358 Acc: 0.5667\n",
            "\n",
            "Epoch 3/29\n",
            "----------\n",
            "Iterating through data...\n",
            "train Loss: 0.2273 Acc: 0.9556\n",
            "Iterating through data...\n",
            "val Loss: 1.0855 Acc: 0.6000\n",
            "\n",
            "Epoch 4/29\n",
            "----------\n",
            "Iterating through data...\n",
            "train Loss: 0.3324 Acc: 0.9111\n",
            "Iterating through data...\n",
            "val Loss: 1.0383 Acc: 0.5667\n",
            "\n",
            "Epoch 5/29\n",
            "----------\n",
            "Iterating through data...\n",
            "train Loss: 0.2574 Acc: 0.9556\n",
            "Iterating through data...\n",
            "val Loss: 0.9772 Acc: 0.6333\n",
            "\n",
            "Epoch 6/29\n",
            "----------\n",
            "Iterating through data...\n",
            "train Loss: 0.2135 Acc: 0.9889\n",
            "Iterating through data...\n",
            "val Loss: 0.9227 Acc: 0.6333\n",
            "\n",
            "Epoch 7/29\n",
            "----------\n",
            "Iterating through data...\n",
            "train Loss: 0.2418 Acc: 0.9444\n",
            "Iterating through data...\n",
            "val Loss: 0.8747 Acc: 0.6667\n",
            "\n",
            "Epoch 8/29\n",
            "----------\n",
            "Iterating through data...\n",
            "train Loss: 0.2325 Acc: 0.9667\n",
            "Iterating through data...\n",
            "val Loss: 0.8670 Acc: 0.6667\n",
            "\n",
            "Epoch 9/29\n",
            "----------\n",
            "Iterating through data...\n",
            "train Loss: 0.2574 Acc: 0.9333\n",
            "Iterating through data...\n",
            "val Loss: 0.8543 Acc: 0.6667\n",
            "\n",
            "Epoch 10/29\n",
            "----------\n",
            "Iterating through data...\n",
            "train Loss: 0.2310 Acc: 0.9444\n",
            "Iterating through data...\n",
            "val Loss: 0.8454 Acc: 0.6667\n",
            "\n",
            "Epoch 11/29\n",
            "----------\n",
            "Iterating through data...\n",
            "train Loss: 0.2247 Acc: 0.9444\n",
            "Iterating through data...\n",
            "val Loss: 0.8323 Acc: 0.6667\n",
            "\n",
            "Epoch 12/29\n",
            "----------\n",
            "Iterating through data...\n",
            "train Loss: 0.2268 Acc: 0.9778\n",
            "Iterating through data...\n",
            "val Loss: 0.8318 Acc: 0.6667\n",
            "\n",
            "Epoch 13/29\n",
            "----------\n",
            "Iterating through data...\n",
            "train Loss: 0.2608 Acc: 0.9556\n",
            "Iterating through data...\n",
            "val Loss: 0.8168 Acc: 0.6667\n",
            "\n",
            "Epoch 14/29\n",
            "----------\n",
            "Iterating through data...\n",
            "train Loss: 0.2427 Acc: 0.9333\n",
            "Iterating through data...\n",
            "val Loss: 0.8311 Acc: 0.6667\n",
            "\n",
            "Epoch 15/29\n",
            "----------\n",
            "Iterating through data...\n",
            "train Loss: 0.2740 Acc: 0.9333\n",
            "Iterating through data...\n",
            "val Loss: 0.8170 Acc: 0.7000\n",
            "\n",
            "Epoch 16/29\n",
            "----------\n",
            "Iterating through data...\n",
            "train Loss: 0.2656 Acc: 0.9556\n",
            "Iterating through data...\n",
            "val Loss: 0.8134 Acc: 0.7000\n",
            "\n",
            "Epoch 17/29\n",
            "----------\n",
            "Iterating through data...\n",
            "train Loss: 0.2344 Acc: 0.9333\n",
            "Iterating through data...\n",
            "val Loss: 0.8191 Acc: 0.7000\n",
            "\n",
            "Epoch 18/29\n",
            "----------\n",
            "Iterating through data...\n",
            "train Loss: 0.2574 Acc: 0.9556\n",
            "Iterating through data...\n",
            "val Loss: 0.8219 Acc: 0.7000\n",
            "\n",
            "Epoch 19/29\n",
            "----------\n",
            "Iterating through data...\n",
            "train Loss: 0.2935 Acc: 0.9222\n",
            "Iterating through data...\n",
            "val Loss: 0.8129 Acc: 0.7000\n",
            "\n",
            "Epoch 20/29\n",
            "----------\n",
            "Iterating through data...\n",
            "train Loss: 0.2271 Acc: 0.9778\n",
            "Iterating through data...\n",
            "val Loss: 0.8200 Acc: 0.7000\n",
            "\n",
            "Epoch 21/29\n",
            "----------\n",
            "Iterating through data...\n",
            "train Loss: 0.2395 Acc: 0.9556\n",
            "Iterating through data...\n",
            "val Loss: 0.8308 Acc: 0.7000\n",
            "\n",
            "Epoch 22/29\n",
            "----------\n",
            "Iterating through data...\n",
            "train Loss: 0.2237 Acc: 0.9667\n",
            "Iterating through data...\n",
            "val Loss: 0.8352 Acc: 0.7000\n",
            "\n",
            "Epoch 23/29\n",
            "----------\n",
            "Iterating through data...\n",
            "train Loss: 0.2194 Acc: 0.9556\n",
            "Iterating through data...\n",
            "val Loss: 0.8253 Acc: 0.7000\n",
            "\n",
            "Epoch 24/29\n",
            "----------\n",
            "Iterating through data...\n",
            "train Loss: 0.2569 Acc: 0.9667\n",
            "Iterating through data...\n",
            "val Loss: 0.8287 Acc: 0.7000\n",
            "\n",
            "Epoch 25/29\n",
            "----------\n",
            "Iterating through data...\n",
            "train Loss: 0.2410 Acc: 0.9667\n",
            "Iterating through data...\n",
            "val Loss: 0.8137 Acc: 0.7000\n",
            "\n",
            "Epoch 26/29\n",
            "----------\n",
            "Iterating through data...\n",
            "train Loss: 0.2763 Acc: 0.9556\n",
            "Iterating through data...\n",
            "val Loss: 0.8275 Acc: 0.7000\n",
            "\n",
            "Epoch 27/29\n",
            "----------\n",
            "Iterating through data...\n",
            "train Loss: 0.2340 Acc: 0.9444\n",
            "Iterating through data...\n",
            "val Loss: 0.8303 Acc: 0.6667\n",
            "\n",
            "Epoch 28/29\n",
            "----------\n",
            "Iterating through data...\n",
            "train Loss: 0.2493 Acc: 0.9333\n",
            "Iterating through data...\n",
            "val Loss: 0.8422 Acc: 0.6667\n",
            "\n",
            "Epoch 29/29\n",
            "----------\n",
            "Iterating through data...\n",
            "train Loss: 0.1945 Acc: 0.9556\n",
            "Iterating through data...\n",
            "val Loss: 0.8424 Acc: 0.7000\n",
            "\n",
            "\n",
            "Training complete in 1m 11s\n",
            "Best val Acc: 0.700000\n"
          ],
          "name": "stdout"
        }
      ]
    },
    {
      "cell_type": "code",
      "metadata": {
        "id": "gOpg2nd4Ph6a",
        "colab_type": "code",
        "colab": {
          "base_uri": "https://localhost:8080/",
          "height": 545
        },
        "outputId": "bb903b56-55b2-4257-960d-a235dab1461f"
      },
      "source": [
        "from matplotlib import pyplot as plt\n",
        "def draw(train_state):\n",
        "    plt.title('Accuracy')\n",
        "    train_acc = plt.plot(train_state['train_acc'], 'r-', label='train')\n",
        "    val_acc = plt.plot(train_state['val_acc'], 'g-', label='val')\n",
        "    plt.legend()\n",
        "    plt.grid(True)\n",
        "    plt.show()\n",
        "\n",
        "    plt.title('Loss')\n",
        "    train_loss = plt.plot(train_state['train_loss'], 'r-', label='train')\n",
        "    val_loss = plt.plot(train_state['val_loss'], 'g-', label='val')\n",
        "    plt.legend()\n",
        "    plt.grid(True)\n",
        "    plt.show()\n",
        "\n",
        "draw(train_state)"
      ],
      "execution_count": 46,
      "outputs": [
        {
          "output_type": "display_data",
          "data": {
            "image/png": "[encoded data removed]",
            "text/plain": [
              "<Figure size 432x288 with 1 Axes>"
            ]
          },
          "metadata": {
            "tags": [],
            "needs_background": "light"
          }
        },
        {
          "output_type": "display_data",
          "data": {
            "image/png": "[encoded data removed]",
            "text/plain": [
              "<Figure size 432x288 with 1 Axes>"
            ]
          },
          "metadata": {
            "tags": [],
            "needs_background": "light"
          }
        }
      ]
    },
    {
      "cell_type": "code",
      "metadata": {
        "id": "zv3YA36HvjEw",
        "colab_type": "code",
        "colab": {}
      },
      "source": [
        "# load model\n",
        "best_model = models.resnet18(pretrained=True)\n",
        "# replace the last layer\n",
        "num_features = model.fc.in_features\n",
        "best_model.fc = nn.Linear(num_features, 11)\n",
        "best_model.load_state_dict(torch.load(best_model_path))\n",
        "best_model.eval()"
      ],
      "execution_count": null,
      "outputs": []
    },
    {
      "cell_type": "code",
      "metadata": {
        "id": "YfWN5TV4xGQW",
        "colab_type": "code",
        "colab": {}
      },
      "source": [
        "# helper function\n",
        "from PIL import Image\n",
        "def pil_loader(path):\n",
        "    # open path as file to avoid ResourceWarning (https://github.com/python-pillow/Pillow/issues/835)\n",
        "    with open(path, 'rb') as f:\n",
        "        img = Image.open(f)\n",
        "        return img.convert('RGB')"
      ],
      "execution_count": null,
      "outputs": []
    },
    {
      "cell_type": "code",
      "metadata": {
        "id": "IQJQVw814oIC",
        "colab_type": "code",
        "colab": {
          "base_uri": "https://localhost:8080/",
          "height": 202
        },
        "outputId": "ea307e69-2fe9-4d43-fa13-4c916a27e5de"
      },
      "source": [
        "data_dir = '/content/gdrive/My Drive/Research/truncted_dataset/'\n",
        "classes = os.listdir(data_dir)\n",
        "classes"
      ],
      "execution_count": null,
      "outputs": [
        {
          "output_type": "execute_result",
          "data": {
            "text/plain": [
              "['yes',\n",
              " 'up',\n",
              " 'go',\n",
              " 'on',\n",
              " 'off',\n",
              " 'left',\n",
              " 'right',\n",
              " 'down',\n",
              " 'unknown',\n",
              " 'no',\n",
              " '_background_noise_']"
            ]
          },
          "metadata": {
            "tags": []
          },
          "execution_count": 79
        }
      ]
    }
  ]
}