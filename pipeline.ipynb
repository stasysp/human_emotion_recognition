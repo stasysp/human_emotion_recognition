{
 "cells": [
  {
   "cell_type": "code",
   "execution_count": 1,
   "metadata": {},
   "outputs": [
    {
     "name": "stderr",
     "output_type": "stream",
     "text": [
      "unable to import 'smart_open.gcs', disabling that module\n",
      "Using TensorFlow backend.\n"
     ]
    }
   ],
   "source": [
    "import warnings\n",
    "warnings.filterwarnings(\"ignore\")\n",
    "import csv\n",
    "import numpy as np\n",
    "import pandas as pd\n",
    "from importlib import reload\n",
    "from os import listdir\n",
    "from os.path import isfile, join\n",
    "from model.tokenizer import DostoevskyTokenizer"
   ]
  },
  {
   "cell_type": "code",
   "execution_count": 17,
   "metadata": {},
   "outputs": [],
   "source": [
    "PATH_TO_DATASET = \"..\\..\\..\\public_youtube1120_mp3\\public_youtube1120\\\\\"\n",
    "PATH_TO_CSV = \"..\\..\\..\\\\public_youtube1120_mp3.csv\""
   ]
  },
  {
   "cell_type": "code",
   "execution_count": null,
   "metadata": {},
   "outputs": [],
   "source": [
    "from utils.walker import get_csv_for_dataset\n",
    "get_csv_for_dataset(PATH_TO_DATASET, PATH_TO_CSV, verbose=False)"
   ]
  },
  {
   "cell_type": "code",
   "execution_count": 153,
   "metadata": {},
   "outputs": [],
   "source": [
    "PATH_TO_RESULT = '..results\\\\'\n",
    "FOLDER_NAME_IN = 'results_by100kstep\\\\'\n",
    "FOLDER_NAME_OUT = 'results_after_scalling\\\\'"
   ]
  },
  {
   "cell_type": "code",
   "execution_count": null,
   "metadata": {},
   "outputs": [],
   "source": [
    "model = DostoevskyTokenizer()\n",
    "model.load_main_file(PATH_TO_CSV)\n",
    "model.init_tokenizer()"
   ]
  },
  {
   "cell_type": "code",
   "execution_count": null,
   "metadata": {},
   "outputs": [],
   "source": [
    "model.get_files_with_predict(path_to_save=FOLDER_NAME_IN)"
   ]
  },
  {
   "cell_type": "code",
   "execution_count": null,
   "metadata": {},
   "outputs": [],
   "source": [
    "result_files = [f for f in listdir(PATH_TO_RESULT + FOLDER_NAME_IN) if isfile(join(PATH_TO_RESULT + FOLDER_NAME_IN, f))]"
   ]
  },
  {
   "cell_type": "code",
   "execution_count": 154,
   "metadata": {},
   "outputs": [
    {
     "data": {
      "text/plain": [
       "['result0-100000.csv',\n",
       " 'result100000-200000.csv',\n",
       " 'result200000-300000.csv',\n",
       " 'result300000-400000.csv',\n",
       " 'result400000-500000.csv',\n",
       " 'result500000-600000.csv',\n",
       " 'result600000-700000.csv',\n",
       " 'result700000-800000.csv',\n",
       " 'result800000-900000.csv',\n",
       " 'result900000-1000000.csv']"
      ]
     },
     "execution_count": 154,
     "output_type": "execute_result",
     "metadata": {}
    }
   ],
   "source": [
    "result_files"
   ]
  },
  {
   "cell_type": "markdown",
   "metadata": {},
   "source": [
    "Number of samples with neutral emotions"
   ]
  },
  {
   "cell_type": "code",
   "execution_count": 135,
   "metadata": {},
   "outputs": [],
   "source": [
    "# df_res[df_res.emotions == 'neutral2'].emotions.count()"
   ]
  },
  {
   "cell_type": "code",
   "execution_count": 158,
   "metadata": {},
   "outputs": [
    {
     "name": "stdout",
     "output_type": "stream",
     "text": [
      "neutral emot. in result0-100000.csv before scalling: 90440, after: 75898, delta: 14542\n",
      "neutral emot. in result100000-200000.csv before scalling: 90331, after: 75790, delta: 14541\n",
      "neutral emot. in result200000-300000.csv before scalling: 90382, after: 75953, delta: 14429\n",
      "neutral emot. in result300000-400000.csv before scalling: 90331, after: 75661, delta: 14670\n",
      "neutral emot. in result400000-500000.csv before scalling: 90392, after: 75801, delta: 14591\n",
      "neutral emot. in result500000-600000.csv before scalling: 90471, after: 75975, delta: 14496\n",
      "neutral emot. in result600000-700000.csv before scalling: 90325, after: 75687, delta: 14638\n",
      "neutral emot. in result700000-800000.csv before scalling: 90501, after: 75948, delta: 14553\n",
      "neutral emot. in result800000-900000.csv before scalling: 90576, after: 75935, delta: 14641\n",
      "neutral emot. in result900000-1000000.csv before scalling: 90301, after: 75633, delta: 14668\n"
     ]
    }
   ],
   "source": [
    "labels = [\n",
    "        'positive',\n",
    "        'neutral',\n",
    "        'negative',\n",
    "        'skip',\n",
    "        'speech',\n",
    "        'unknown',\n",
    "        ]\n",
    "\n",
    "def f(x):\n",
    "    global count_neut_before\n",
    "    index_first_max = int(x.nlargest(1).idxmin())\n",
    "    index_second_max = int(x.nlargest(2).idxmin())\n",
    "    if labels[index_first_max] == 'neutral':\n",
    "        count_neut_before = count_neut_before + 1\n",
    "        if x[index_second_max]/x[index_first_max] > x[index_first_max]:\n",
    "            t = x[index_second_max]\n",
    "            x[index_second_max] = x[index_first_max]\n",
    "            x[index_first_max] = t\n",
    "            return index_second_max\n",
    "        else:\n",
    "            return index_first_max\n",
    "    return index_first_max\n",
    "        #print('x: ', x, 'imax:', typeindex_first_max))\n",
    "\n",
    "for csv_name in result_files:\n",
    "    count_neut_before = 0\n",
    "    df_res = pd.read_csv(PATH_TO_RESULT + FOLDER_NAME_IN + csv_name)\n",
    "    df_res['emotions'] = df_res[['0', '1', '2', '3', '4', '5']].T.apply(lambda x: f(x))\n",
    "    df_res['emotions'] = df_res['emotions'].T.apply(lambda x: labels[int(x)])\n",
    "    count_neut_after = df_res[df_res.emotions == 'neutral'].emotions.count()\n",
    "    print(\"neutral emot. in {} before scalling: {}, after: {}, delta: {}\".format(csv_name, count_neut_before, count_neut_after, count_neut_before - count_neut_after))\n",
    "    df_res.to_csv(PATH_TO_RESULT + FOLDER_NAME_OUT + 'scalling_' + csv_name, encoding='Windows-1251')"
   ]
  },
  {
   "cell_type": "code",
   "execution_count": 199,
   "metadata": {},
   "outputs": [
    {
     "data": {
      "text/html": [
       "<div>\n",
       "<style scoped>\n",
       "    .dataframe tbody tr th:only-of-type {\n",
       "        vertical-align: middle;\n",
       "    }\n",
       "\n",
       "    .dataframe tbody tr th {\n",
       "        vertical-align: top;\n",
       "    }\n",
       "\n",
       "    .dataframe thead th {\n",
       "        text-align: right;\n",
       "    }\n",
       "</style>\n",
       "<table border=\"1\" class=\"dataframe\">\n",
       "  <thead>\n",
       "    <tr style=\"text-align: right;\">\n",
       "      <th></th>\n",
       "      <th>neutral</th>\n",
       "      <th>speech</th>\n",
       "      <th>skip</th>\n",
       "      <th>negative</th>\n",
       "      <th>positive</th>\n",
       "      <th>unknown</th>\n",
       "    </tr>\n",
       "  </thead>\n",
       "  <tbody>\n",
       "    <tr>\n",
       "      <th>count</th>\n",
       "      <td>904050</td>\n",
       "      <td>11606</td>\n",
       "      <td>10160</td>\n",
       "      <td>40317</td>\n",
       "      <td>29740</td>\n",
       "      <td>4127</td>\n",
       "    </tr>\n",
       "    <tr>\n",
       "      <th>std</th>\n",
       "      <td>0.144263</td>\n",
       "      <td>0.206007</td>\n",
       "      <td>0.156701</td>\n",
       "      <td>0.158562</td>\n",
       "      <td>0.112835</td>\n",
       "      <td>0.0527393</td>\n",
       "    </tr>\n",
       "    <tr>\n",
       "      <th>25%</th>\n",
       "      <td>0.531548</td>\n",
       "      <td>0.509873</td>\n",
       "      <td>0.361025</td>\n",
       "      <td>0.404409</td>\n",
       "      <td>0.387019</td>\n",
       "      <td>0.51033</td>\n",
       "    </tr>\n",
       "    <tr>\n",
       "      <th>50%</th>\n",
       "      <td>0.642497</td>\n",
       "      <td>0.736593</td>\n",
       "      <td>0.422581</td>\n",
       "      <td>0.492807</td>\n",
       "      <td>0.445975</td>\n",
       "      <td>0.51033</td>\n",
       "    </tr>\n",
       "    <tr>\n",
       "      <th>75%</th>\n",
       "      <td>0.74641</td>\n",
       "      <td>0.883418</td>\n",
       "      <td>0.524953</td>\n",
       "      <td>0.624461</td>\n",
       "      <td>0.531599</td>\n",
       "      <td>0.51033</td>\n",
       "    </tr>\n",
       "  </tbody>\n",
       "</table>\n",
       "</div>"
      ]
     },
     "output_type": "execute_result",
     "metadata": {}
    }
   ],
   "source": [
    "from utils import tools\n",
    "import importlib\n",
    "tools = importlib.reload(tools)\n",
    "PATH_TO_CSV_INITIAL = '..\\\\results\\\\results_by100kstep\\\\'\n",
    "PATH_TO_CSV_SCALLED = '..\\\\results_after_scalling\\\\'\n",
    "\n",
    "tools.get_stat_from_initial_results(PATH_TO_CSVs)"
   ]
  },
  {
   "cell_type": "code",
   "execution_count": 200,
   "metadata": {},
   "outputs": [
    {
     "data": {
      "text/html": [
       "<div>\n",
       "<style scoped>\n",
       "    .dataframe tbody tr th:only-of-type {\n",
       "        vertical-align: middle;\n",
       "    }\n",
       "\n",
       "    .dataframe tbody tr th {\n",
       "        vertical-align: top;\n",
       "    }\n",
       "\n",
       "    .dataframe thead th {\n",
       "        text-align: right;\n",
       "    }\n",
       "</style>\n",
       "<table border=\"1\" class=\"dataframe\">\n",
       "  <thead>\n",
       "    <tr style=\"text-align: right;\">\n",
       "      <th></th>\n",
       "      <th>neutral</th>\n",
       "      <th>speech</th>\n",
       "      <th>skip</th>\n",
       "      <th>negative</th>\n",
       "      <th>positive</th>\n",
       "      <th>unknown</th>\n",
       "    </tr>\n",
       "  </thead>\n",
       "  <tbody>\n",
       "    <tr>\n",
       "      <th>count</th>\n",
       "      <td>758281</td>\n",
       "      <td>14156</td>\n",
       "      <td>45271</td>\n",
       "      <td>99334</td>\n",
       "      <td>71750</td>\n",
       "      <td>11208</td>\n",
       "    </tr>\n",
       "    <tr>\n",
       "      <th>std</th>\n",
       "      <td>0.116796</td>\n",
       "      <td>0.247594</td>\n",
       "      <td>0.0956843</td>\n",
       "      <td>0.166778</td>\n",
       "      <td>0.118162</td>\n",
       "      <td>0.142757</td>\n",
       "    </tr>\n",
       "    <tr>\n",
       "      <th>25%</th>\n",
       "      <td>0.589792</td>\n",
       "      <td>0.382231</td>\n",
       "      <td>0.341921</td>\n",
       "      <td>0.2634</td>\n",
       "      <td>0.27846</td>\n",
       "      <td>0.201188</td>\n",
       "    </tr>\n",
       "    <tr>\n",
       "      <th>50%</th>\n",
       "      <td>0.674712</td>\n",
       "      <td>0.617436</td>\n",
       "      <td>0.4015</td>\n",
       "      <td>0.338735</td>\n",
       "      <td>0.34075</td>\n",
       "      <td>0.232169</td>\n",
       "    </tr>\n",
       "    <tr>\n",
       "      <th>75%</th>\n",
       "      <td>0.765649</td>\n",
       "      <td>0.857464</td>\n",
       "      <td>0.44352</td>\n",
       "      <td>0.45745</td>\n",
       "      <td>0.424372</td>\n",
       "      <td>0.51033</td>\n",
       "    </tr>\n",
       "  </tbody>\n",
       "</table>\n",
       "</div>"
      ]
     },
     "output_type": "execute_result",
     "metadata": {}
    }
   ],
   "source": [
    "tools.get_stat_from_initial_results(PATH_TO_CSV_SCALLED)"
   ]
  },
  {
   "cell_type": "code",
   "execution_count": 65,
   "metadata": {},
   "outputs": [
    {
     "data": {
      "text/plain": [
       "['results_after_scallingscalling_result0-100000.csv',\n",
       " 'results_after_scallingscalling_result100000-200000.csv',\n",
       " 'results_after_scallingscalling_result200000-300000.csv',\n",
       " 'results_after_scallingscalling_result300000-400000.csv',\n",
       " 'results_after_scallingscalling_result400000-500000.csv',\n",
       " 'results_after_scallingscalling_result500000-600000.csv',\n",
       " 'results_after_scallingscalling_result600000-700000.csv',\n",
       " 'results_after_scallingscalling_result700000-800000.csv',\n",
       " 'results_after_scallingscalling_result800000-900000.csv',\n",
       " 'results_after_scallingscalling_result900000-1000000.csv']"
      ]
     },
     "execution_count": 65,
     "metadata": {},
     "output_type": "execute_result"
    }
   ],
   "source": [
    "result_files_after_scalling = [f for f in listdir(PATH_TO_CSV_SCALLED) if isfile(join(PATH_TO_CSV_SCALLED, f))]\n",
    "result_files_after_scalling"
   ]
  },
  {
   "cell_type": "code",
   "execution_count": 68,
   "metadata": {},
   "outputs": [
    {
     "name": "stdout",
     "output_type": "stream",
     "text": [
      "Directory ..\\..\\dataset_based_p_y1120_mp3\\train already exist\n",
      "Directory ..\\..\\dataset_based_p_y1120_mp3\\train\\positive already exist\n",
      "Directory ..\\..\\dataset_based_p_y1120_mp3\\train\\neutral already exist\n",
      "Directory ..\\..\\dataset_based_p_y1120_mp3\\train\\negative already exist\n",
      "Directory ..\\..\\dataset_based_p_y1120_mp3\\train\\skip already exist\n",
      "Directory ..\\..\\dataset_based_p_y1120_mp3\\train\\speech already exist\n",
      "Directory ..\\..\\dataset_based_p_y1120_mp3\\train\\unknown already exist\n",
      "Directory ..\\..\\dataset_based_p_y1120_mp3\\val already exist\n",
      "Directory ..\\..\\dataset_based_p_y1120_mp3\\val\\positive already exist\n",
      "Directory ..\\..\\dataset_based_p_y1120_mp3\\val\\neutral already exist\n",
      "Directory ..\\..\\dataset_based_p_y1120_mp3\\val\\negative already exist\n",
      "Directory ..\\..\\dataset_based_p_y1120_mp3\\val\\skip already exist\n",
      "Directory ..\\..\\dataset_based_p_y1120_mp3\\val\\speech already exist\n",
      "Directory ..\\..\\dataset_based_p_y1120_mp3\\val\\unknown already exist\n"
     ]
    }
   ],
   "source": [
    "import os\n",
    "from shutil import copy\n",
    "import importlib\n",
    "tools = importlib.reload(tools)\n",
    "\n",
    "PATH_TO_DATASET_SOURCE = \"..\\..\\public_youtube1120_mp3\\\\\"\n",
    "PATH_TO_DATASET_DESTINATION = \"..\\..\\dataset_based_p_y1120_mp3\"\n",
    "    \n",
    "tools.get_train_val(PATH_TO_CSV_SCALLED + result_files_after_scalling[5], PATH_TO_DATASET_SOURCE, PATH_TO_DATASET_DESTINATION)"
   ]
  },
  {
   "cell_type": "code",
   "execution_count": 75,
   "metadata": {},
   "outputs": [
    {
     "data": {
      "text/plain": [
       "'results_after_scallingscalling_result700000-800000.csv'"
      ]
     },
     "execution_count": 75,
     "metadata": {},
     "output_type": "execute_result"
    }
   ],
   "source": [
    "df_res = pd.read_csv(PATH_TO_CSV_SCALLED + result_files_after_scalling[7])\n",
    "result_files_after_scalling[7]"
   ]
  }
 ],
 "metadata": {
  "kernelspec": {
   "display_name": "Python 3",
   "language": "python",
   "name": "python3"
  },
  "language_info": {
   "codemirror_mode": {
    "name": "ipython",
    "version": 3.0
   },
   "file_extension": ".py",
   "mimetype": "text/x-python",
   "name": "python",
   "nbconvert_exporter": "python",
   "pygments_lexer": "ipython3",
   "version": "3.6.10"
  }
 },
 "nbformat": 4,
 "nbformat_minor": 4
}