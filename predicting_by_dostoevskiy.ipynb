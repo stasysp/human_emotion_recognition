{
 "cells": [
  {
   "cell_type": "code",
   "execution_count": null,
   "metadata": {
    "colab": {
     "base_uri": "https://localhost:8080/",
     "height": 51
    },
    "colab_type": "code",
    "executionInfo": {
     "elapsed": 9242,
     "status": "ok",
     "timestamp": 1564919874738,
     "user": {
      "displayName": "Илья Седунов",
      "photoUrl": "https://lh4.googleusercontent.com/-UBRHOz7qPx8/AAAAAAAAAAI/AAAAAAAAAAc/j8CqTG4PkU8/s64/photo.jpg",
      "userId": "17123457789087244305"
     },
     "user_tz": -180
    },
    "id": "WpbUOIWQVuxX",
    "outputId": "11c90dc8-a8ec-4ee6-b867-7625a80a60c3"
   },
   "outputs": [],
   "source": [
    "from google.colab import drive\n",
    "drive.mount('/MyDrv')\n",
    "!ls\n",
    "!cp \"/MyDrv/My Drive/Research/public_youtube1120_mp3.csv\" \"../\"\n",
    "!cp \"/MyDrv/My Drive/Research/asr_public_phone_calls_2.csv\" \"../\"\n",
    "#!cp \"/MyDrv/My Drive/Research/train.json\" \"../\"\n",
    "#!cp \"/MyDrv/My Drive/Research/test.json\" \"../\""
   ]
  },
  {
   "cell_type": "code",
   "execution_count": null,
   "metadata": {
    "colab": {
     "base_uri": "https://localhost:8080/",
     "height": 870
    },
    "colab_type": "code",
    "executionInfo": {
     "elapsed": 5505,
     "status": "ok",
     "timestamp": 1564919884952,
     "user": {
      "displayName": "Илья Седунов",
      "photoUrl": "https://lh4.googleusercontent.com/-UBRHOz7qPx8/AAAAAAAAAAI/AAAAAAAAAAc/j8CqTG4PkU8/s64/photo.jpg",
      "userId": "17123457789087244305"
     },
     "user_tz": -180
    },
    "id": "po3-xV6yWMRE",
    "outputId": "e47ec917-cac0-476f-e78a-b489b2d5b332"
   },
   "outputs": [],
   "source": [
    "import sys\n",
    "!{sys.executable} -m pip install dostoevsky==0.1.2"
   ]
  },
  {
   "cell_type": "code",
   "execution_count": null,
   "metadata": {
    "colab": {},
    "colab_type": "code",
    "id": "U_HDDFfAY0XO"
   },
   "outputs": [],
   "source": [
    "!dostoevsky download vk-embeddings cnn-social-network-model"
   ]
  },
  {
   "cell_type": "code",
   "execution_count": null,
   "metadata": {
    "colab": {
     "base_uri": "https://localhost:8080/",
     "height": 88
    },
    "colab_type": "code",
    "executionInfo": {
     "elapsed": 138489,
     "status": "ok",
     "timestamp": 1564931200704,
     "user": {
      "displayName": "Илья Седунов",
      "photoUrl": "https://lh4.googleusercontent.com/-UBRHOz7qPx8/AAAAAAAAAAI/AAAAAAAAAAc/j8CqTG4PkU8/s64/photo.jpg",
      "userId": "17123457789087244305"
     },
     "user_tz": -180
    },
    "id": "CISQwpjBYgUX",
    "outputId": "1d78dd20-3e17-420c-e811-310228bc8e64"
   },
   "outputs": [],
   "source": [
    "from dostoevsky.tokenization import UDBaselineTokenizer, BaselineTokenizer\n",
    "from dostoevsky.word_vectors import SocialNetworkWordVectores,  Word2VecContainer\n",
    "from dostoevsky.models import SocialNetworkModel, BaseModel\n",
    "\n",
    "tokenizer = BaselineTokenizer()\n",
    "\n",
    "word_vectors_container = SocialNetworkWordVectores()\n",
    "\n",
    "model = SocialNetworkModel(\n",
    "  tokenizer=tokenizer,\n",
    "  word_vectors_container=word_vectors_container,\n",
    "  lemmatize=False,\n",
    ")"
   ]
  },
  {
   "cell_type": "code",
   "execution_count": null,
   "metadata": {
    "colab": {},
    "colab_type": "code",
    "id": "v4arvfuWXHgT"
   },
   "outputs": [],
   "source": [
    "import csv\n",
    "import pandas as pd\n",
    "\n",
    "df = pd.read_csv('../asr_public_phone_calls_2.csv', encoding='Windows-1251')\n",
    "saved_column = df.text.tolist()"
   ]
  },
  {
   "cell_type": "code",
   "execution_count": null,
   "metadata": {
    "colab": {},
    "colab_type": "code",
    "id": "3hXN190davQU"
   },
   "outputs": [],
   "source": [
    "STEP = 200\n",
    "ret = []\n",
    "for i in range(int(len(saved_column)) - 1):\n",
    "    samples = saved_column[(i * STEP) : ((i+1) * STEP)]\n",
    "    pred = model.predict(samples)\n",
    "    #print(i, samples, pred)\n",
    "    ret.append(pred[0])"
   ]
  },
  {
   "cell_type": "code",
   "execution_count": null,
   "metadata": {
    "colab": {},
    "colab_type": "code",
    "id": "9WgrsTK3fcxD"
   },
   "outputs": [],
   "source": [
    "len(ret)"
   ]
  }
 ],
 "metadata": {
  "colab": {
   "collapsed_sections": [],
   "name": "dostoevsky.ipynb",
   "provenance": [],
   "version": "0.3.2"
  },
  "kernelspec": {
   "display_name": "Python 3",
   "language": "python",
   "name": "python3"
  },
  "language_info": {
   "codemirror_mode": {
    "name": "ipython",
    "version": 3
   },
   "file_extension": ".py",
   "mimetype": "text/x-python",
   "name": "python",
   "nbconvert_exporter": "python",
   "pygments_lexer": "ipython3",
   "version": "3.7.3"
  }
 },
 "nbformat": 4,
 "nbformat_minor": 4
}
